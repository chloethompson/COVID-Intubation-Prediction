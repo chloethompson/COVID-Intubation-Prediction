{
 "cells": [
  {
   "cell_type": "markdown",
   "id": "15fe0782",
   "metadata": {},
   "source": [
    "### Standard Imports & Visualisation"
   ]
  },
  {
   "cell_type": "code",
   "execution_count": null,
   "id": "4d855cd0",
   "metadata": {},
   "outputs": [],
   "source": [
    "import pandas as pd\n",
    "import numpy as np\n",
    "import io, re, sys, math, json, os\n",
    "from time import gmtime, strftime\n",
    "\n",
    "import matplotlib.pyplot as plt \n",
    "import seaborn as sb \n",
    "from IPython.display import Image                 \n",
    "from IPython.display import display "
   ]
  },
  {
   "cell_type": "markdown",
   "id": "bd592915",
   "metadata": {},
   "source": [
    "### SkLearn Libraries"
   ]
  },
  {
   "cell_type": "code",
   "execution_count": null,
   "id": "52e7ac59",
   "metadata": {},
   "outputs": [],
   "source": [
    "from sklearn.model_selection import train_test_split\n",
    "from sklearn.neighbors import KNeighborsClassifier\n",
    "from sklearn.metrics import accuracy_score, confusion_matrix, precision_recall_fscore_support\n",
    "from sklearn import linear_model,  svm, datasets\n",
    "from sklearn.metrics import f1_score\n",
    "from sklearn import svm"
   ]
  },
  {
   "cell_type": "markdown",
   "id": "40bf71fd",
   "metadata": {},
   "source": [
    "### SageMaker Libraries"
   ]
  },
  {
   "cell_type": "code",
   "execution_count": null,
   "id": "76c35ff8",
   "metadata": {},
   "outputs": [],
   "source": [
    "import boto3, sagemaker, urllib.request\n",
    "import sagemaker.amazon.common as smac\n",
    "from sagemaker import get_execution_role\n",
    "from sagemaker.predictor import csv_serializer  \n",
    "from sagemaker.amazon.amazon_estimator import get_image_uri"
   ]
  }
 ],
 "metadata": {
  "kernelspec": {
   "display_name": "Python 3 (ipykernel)",
   "language": "python",
   "name": "python3"
  },
  "language_info": {
   "codemirror_mode": {
    "name": "ipython",
    "version": 3
   },
   "file_extension": ".py",
   "mimetype": "text/x-python",
   "name": "python",
   "nbconvert_exporter": "python",
   "pygments_lexer": "ipython3",
   "version": "3.9.13"
  }
 },
 "nbformat": 4,
 "nbformat_minor": 5
}
